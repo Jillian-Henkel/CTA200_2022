{
 "cells": [
  {
   "cell_type": "code",
   "execution_count": 1,
   "id": "d0b7adba",
   "metadata": {},
   "outputs": [
    {
     "name": "stdout",
     "output_type": "stream",
     "text": [
      "Found root in 17 iterations\n",
      "1.4655714531839283\n",
      "Found root in 15 iterations\n",
      "1.4655714141777443\n"
     ]
    }
   ],
   "source": [
    "#Note that, if I was writting large ammounts of code,\n",
    "#I would have created python modules for my functions using\n",
    "#vim in the terminal, and copying and pasting my function into a .py file. \n",
    "#However, having all of my code in one place will make it easier to mark,\n",
    "#and, as there is not much code here, \n",
    "#having it all in a jupyter notebook will not cause problems.\n",
    "#Part 1:\n",
    "#Note that the parameters and returns of these two funtions are self-explanitory,\n",
    "#so they are not doccumented.\n",
    "def f(x):\n",
    "    return x**3 - x**2 - 1\n",
    "    \n",
    "def df(x):\n",
    "    return 3*x**2 - 2*x -1\n",
    "#part 2:\n",
    "def newton(f,df,x0,epsilon,max_iter):\n",
    "    '''Approximation of f(x)=0 by Newton's method.\n",
    "\n",
    "    Parameters\n",
    "    ----------\n",
    "    f : function\n",
    "        The function we are using Newton's method to find f(x)=0 for.\n",
    "    df : function\n",
    "        The derivative of f(x).\n",
    "    x0 : number\n",
    "        Our initial guess of a solution of f(x)=0.\n",
    "    epsilon : number\n",
    "        The absolute value of f(xn) must be less than epsilon for Newton iteration to suceed.\n",
    "    max_iter : integer\n",
    "        The maximum number of iterations of Newton's method allowed.\n",
    "\n",
    "    Returns\n",
    "    -------\n",
    "    xn : number\n",
    "        To use Newton's method, we will compute the linear approximation\n",
    "        of f(x) at xn and find the root using:\n",
    "            x = xn - f(xn)/df(xn)\n",
    "        We continue until abs(f(xn)) < epsilon, and return xn.\n",
    "         If the number of iterations exceeds max_iter, then return None. \n",
    "         Also, if df(xn) = 0, return None.\n",
    "\n",
    "  \n",
    "  '''\n",
    "#Note that, when x=1, the derriavtive is zero, and a division by zero occours. \n",
    "#I have included an output for this scenario so there are not errors running the code.\n",
    "    xn = x0\n",
    "    for n in range(0,max_iter):\n",
    "        f_xn = f(xn)\n",
    "        if abs(f_xn) < epsilon:\n",
    "            print('Found root in',n,'iterations')\n",
    "            return xn\n",
    "        df_xn = df(xn)\n",
    "        if df_xn == 0:\n",
    "            print('Derrivative is zero, so no solution is found.')\n",
    "            return None\n",
    "        xn = xn - f_xn/df_xn\n",
    "    print('Iteration failed')\n",
    "    return None\n",
    "#part 3:\n",
    "# solution when x0=15\n",
    "x_15 = newton(f,df,15,1e-6,30)\n",
    "print(x_15)\n",
    "# solution when x0=10\n",
    "x_10 = newton(f,df,10,1e-6,30)\n",
    "print(x_10)"
   ]
  },
  {
   "cell_type": "code",
   "execution_count": 2,
   "id": "f63860b4",
   "metadata": {},
   "outputs": [
    {
     "name": "stdout",
     "output_type": "stream",
     "text": [
      "Found root in 22 iterations\n",
      "1.4655712296666399\n",
      "Found root in 20 iterations\n",
      "1.4655712300561827\n"
     ]
    }
   ],
   "source": [
    "#part 3 continued- epsilon=1e-8\n",
    "# solution when x0=15\n",
    "x_15 = newton(f,df,x0=15,epsilon=1e-8,max_iter=30)\n",
    "print(x_15)\n",
    "# solution when x0=10\n",
    "x_10 = newton(f,df,x0=10,epsilon=1e-8,max_iter=30)\n",
    "print(x_10)\n",
    "#The function still works with this new value of epsilon. \n",
    "#However, it takes 5 more iterations to work in both cases."
   ]
  },
  {
   "cell_type": "code",
   "execution_count": null,
   "id": "43942577",
   "metadata": {},
   "outputs": [],
   "source": []
  }
 ],
 "metadata": {
  "kernelspec": {
   "display_name": "Python 3 (ipykernel)",
   "language": "python",
   "name": "python3"
  },
  "language_info": {
   "codemirror_mode": {
    "name": "ipython",
    "version": 3
   },
   "file_extension": ".py",
   "mimetype": "text/x-python",
   "name": "python",
   "nbconvert_exporter": "python",
   "pygments_lexer": "ipython3",
   "version": "3.10.2"
  }
 },
 "nbformat": 4,
 "nbformat_minor": 5
}

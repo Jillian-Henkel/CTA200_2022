{
 "cells": [
  {
   "cell_type": "code",
   "execution_count": null,
   "id": "099b9610",
   "metadata": {},
   "outputs": [],
   "source": [
    "import numpy as np\n",
    "import matplotlib.pyplot as plt\n",
    "from scipy.integrate import solve_ivp"
   ]
  },
  {
   "cell_type": "code",
   "execution_count": null,
   "id": "4935d229",
   "metadata": {},
   "outputs": [],
   "source": [
    "# question 1:\n",
    "from iteration import iteration\n",
    "\n",
    "npoints = 1000 \n",
    "real, imag = np.linspace(-2, 2, npoints), np.linspace(-2, 2, npoints)\n",
    "col = np.array([complex(x, y) for x in real for y in imag]) \n",
    "\n",
    "colour_array = np.array([iteration(c) for c in col])"
   ]
  },
  {
   "cell_type": "code",
   "execution_count": null,
   "id": "3762ea12",
   "metadata": {},
   "outputs": [],
   "source": [
    "# plot 1\n",
    "# values of -1 (convergence) are black, and any higher values (divergence) are white\n",
    "plt.scatter(col.real, col.imag, c=colour_array, cmap=plt.cm.get_cmap('binary_r'), vmin=-1, vmax=1)\n",
    "plt.xlabel('Real'), plt.ylabel('Imaginary')\n",
    "plt.savefig('iteration_bw.pdf')"
   ]
  },
  {
   "cell_type": "code",
   "execution_count": null,
   "id": "bde71cf9",
   "metadata": {},
   "outputs": [],
   "source": [
    "# plot 2\n",
    "plt.scatter(col.real, col.imag, c=colour_array, cmap=plt.cm.get_cmap(), vmin=-1, vmax=25)\n",
    "plt.xlabel('Real'), plt.ylabel('Imaginary')\n",
    "plt.colorbar() \n",
    "plt.savefig('iteration_colour.pdf')"
   ]
  },
  {
   "cell_type": "code",
   "execution_count": null,
   "id": "80830484",
   "metadata": {},
   "outputs": [],
   "source": [
    "#Question 2:\n",
    "def lorenz_eq(t, XYZ, sigma, r, b):\n",
    "    \"\"\"\n",
    "    lorenz_eq(t, xyz, sigma, r, b):\n",
    "    \n",
    "    The Lorenz equations are given by:\n",
    "    dx/dt = -sigma(X - Y)\n",
    "    dy/dt = rX - y - XZ\n",
    "    dz/dt = -bZ + XY\n",
    "    \n",
    "    An ode solver is used to solve these equations for a set of initial equations.\n",
    "    \n",
    "    Parameters:\n",
    "    t: float\n",
    "    The time to integrate, using scipy.integrate.solve_ivp()\n",
    "    xyz: 3-tuple of floats\n",
    "    The values of X, Y, Z for the iteration of the Lorenz equations.\n",
    "    sigma: float\n",
    "    The Prandtl number\n",
    "    r: float\n",
    "    The Rayleigh number\n",
    "    b: float\n",
    "    The length scale \n",
    "    \n",
    "    Returns\n",
    "    ---------\n",
    "    [dx, dy, dz]: array of floats\n",
    "    The derrrivatives with respect to time of X, Y, Z, given by the lornez equations.\n",
    "    \n",
    "    \n",
    "    \"\"\"\n",
    "    X, Y, Z = XYZ  \n",
    "    \n",
    "    dx = -sigma*(X - Y)\n",
    "    dy = (r*X) - Y  - (X*Z)\n",
    "    dz = -(b*Z) + (X * Y)\n",
    "    \n",
    "    return [dx, dy, dz]\n",
    "\n",
    "span_t = [0., 61.]  # we are integrating for t=60\n",
    "w0 = [0., 1., 0.]  # values for w0\n",
    "params = (10., 28., 8./3.)  # the parameters sigma, r, b\n",
    "\n",
    "\n",
    "lorenz_sol = solve_ivp(lorenz_eq, span_t, w0, args=params, dense_output=True)\n",
    "\n",
    "# To reproduce figure 1:\n",
    "n_it = 6000  # use 60000 iterations\n",
    "times = np.linspace(span_t[0], span_t[-1], n_it)  # array of times to plot over\n",
    "dt = 0.01  \n",
    "\n",
    "\n",
    "ns = times/dt  \n",
    "\n",
    "Xs, Ys, Zs = lorenz_sol.sol(times)\n"
   ]
  },
  {
   "cell_type": "code",
   "execution_count": null,
   "id": "f971dece",
   "metadata": {},
   "outputs": [],
   "source": [
    "# plotting figure 1:\n",
    "fig, (yax_1, yax_2, yax_3) = plt.subplots(3, 1, sharex=True)\n",
    "# plot the first 3000 steps of iteration in the same way as Lorenz in paper\n",
    "yax_1.plot(ns[0:1000], Ys[0:1000])\n",
    "plt.xlabel(\"Iteration\")\n",
    "yax_1.set_ylabel('Y')\n",
    "yax_2.set_ylabel('Y')\n",
    "yax_3.set_ylabel('Y')\n",
    "yax_2.plot(ns[0:1000], Ys[1000:2000])\n",
    "yax_3.plot(ns[0:1000], Ys[2000:3000])  \n",
    "plt.savefig('Figure1.pdf')"
   ]
  },
  {
   "cell_type": "code",
   "execution_count": null,
   "id": "6215c0d6",
   "metadata": {},
   "outputs": [],
   "source": [
    "# plotting figure 2:\n",
    "times_2 = np.linspace(14, 19, n_it)\n",
    "\n",
    "ns2 = times_2/dt\n",
    "\n",
    "xs2, ys2, zs2 = lorenz_sol.sol(times_2)\n",
    "\n",
    "\n",
    "# plotting like Lorenz's Fig. 2\n",
    "fig, (yz_ax, xy_ax) = plt.subplots(2, 1)\n",
    "\n",
    "yz_ax.plot(ys2, zs2)\n",
    "yz_ax.set_xlabel('Y'), yz_ax.set_ylabel('Z')\n",
    "\n",
    "xy_ax.plot(xs2, ys2)\n",
    "xy_ax.set_xlabel('X'), xy_ax.set_ylabel('Y')\n",
    "plt.savefig('Figure_2.pdf')"
   ]
  },
  {
   "cell_type": "code",
   "execution_count": null,
   "id": "83447cd0",
   "metadata": {},
   "outputs": [],
   "source": [
    "w0_prime = [a + b for a, b in zip(w0, [0, 1e-8, 0])]\n",
    "\n",
    "lorenz_sol_prime = solve_ivp(lorenz_eq, span_t, w0_prime, args=params, dense_output=True)\n",
    "\n",
    "ws = lorenz_sol.sol(times)\n",
    "w_primes = lorenz_sol_prime.sol(times)\n",
    "# Calculate the distance between w and w_prime, and subtract the w and w_prime vectors.\n",
    "# Take the norm of each vector as the distance between them.\n",
    "distances = np.array([np.linalg.norm(vec) for vec in ws.T - w_primes.T])"
   ]
  },
  {
   "cell_type": "code",
   "execution_count": null,
   "id": "b081892b",
   "metadata": {},
   "outputs": [],
   "source": [
    "# plotting:\n",
    "plt.yscale('log')  \n",
    "plt.plot(times, distances)\n",
    "plt.xlabel('Time')\n",
    "plt.ylabel('Seperation between W and W_Prime')\n",
    "plt.savefig('w_prime_distance.pdf')"
   ]
  },
  {
   "cell_type": "code",
   "execution_count": null,
   "id": "ee62b6aa",
   "metadata": {},
   "outputs": [],
   "source": []
  }
 ],
 "metadata": {
  "kernelspec": {
   "display_name": "Python 3 (ipykernel)",
   "language": "python",
   "name": "python3"
  },
  "language_info": {
   "codemirror_mode": {
    "name": "ipython",
    "version": 3
   },
   "file_extension": ".py",
   "mimetype": "text/x-python",
   "name": "python",
   "nbconvert_exporter": "python",
   "pygments_lexer": "ipython3",
   "version": "3.10.2"
  }
 },
 "nbformat": 4,
 "nbformat_minor": 5
}
